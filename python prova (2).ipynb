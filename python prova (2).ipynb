{
 "cells": [
  {
   "cell_type": "code",
   "execution_count": 108,
   "id": "258d9e0b-ddf1-477d-b70d-9113e779862c",
   "metadata": {},
   "outputs": [],
   "source": [
    "import pandas as pd\n",
    "import seaborn as sns\n",
    "import numpy as np\n",
    "import matplotlib.pyplot as plt"
   ]
  },
  {
   "cell_type": "code",
   "execution_count": 105,
   "id": "0e46a1c4-3d65-42e2-9533-92285b4fbb4e",
   "metadata": {},
   "outputs": [],
   "source": [
    "df=pd.read_csv('C:\\\\Users\\\\simona\\\\Downloads\\\\owid-covid-data.csv')\n"
   ]
  },
  {
   "cell_type": "code",
   "execution_count": 106,
   "id": "f8e32942-54a7-4859-a776-2189f412c197",
   "metadata": {},
   "outputs": [
    {
     "data": {
      "text/html": [
       "<div>\n",
       "<style scoped>\n",
       "    .dataframe tbody tr th:only-of-type {\n",
       "        vertical-align: middle;\n",
       "    }\n",
       "\n",
       "    .dataframe tbody tr th {\n",
       "        vertical-align: top;\n",
       "    }\n",
       "\n",
       "    .dataframe thead th {\n",
       "        text-align: right;\n",
       "    }\n",
       "</style>\n",
       "<table border=\"1\" class=\"dataframe\">\n",
       "  <thead>\n",
       "    <tr style=\"text-align: right;\">\n",
       "      <th></th>\n",
       "      <th>iso_code</th>\n",
       "      <th>continent</th>\n",
       "      <th>location</th>\n",
       "      <th>date</th>\n",
       "      <th>total_cases</th>\n",
       "      <th>new_cases</th>\n",
       "      <th>new_cases_smoothed</th>\n",
       "      <th>total_deaths</th>\n",
       "      <th>new_deaths</th>\n",
       "      <th>new_deaths_smoothed</th>\n",
       "      <th>...</th>\n",
       "      <th>male_smokers</th>\n",
       "      <th>handwashing_facilities</th>\n",
       "      <th>hospital_beds_per_thousand</th>\n",
       "      <th>life_expectancy</th>\n",
       "      <th>human_development_index</th>\n",
       "      <th>population</th>\n",
       "      <th>excess_mortality_cumulative_absolute</th>\n",
       "      <th>excess_mortality_cumulative</th>\n",
       "      <th>excess_mortality</th>\n",
       "      <th>excess_mortality_cumulative_per_million</th>\n",
       "    </tr>\n",
       "  </thead>\n",
       "  <tbody>\n",
       "    <tr>\n",
       "      <th>0</th>\n",
       "      <td>AFG</td>\n",
       "      <td>Asia</td>\n",
       "      <td>Afghanistan</td>\n",
       "      <td>2020-01-05</td>\n",
       "      <td>NaN</td>\n",
       "      <td>0.0</td>\n",
       "      <td>NaN</td>\n",
       "      <td>NaN</td>\n",
       "      <td>0.0</td>\n",
       "      <td>NaN</td>\n",
       "      <td>...</td>\n",
       "      <td>NaN</td>\n",
       "      <td>37.746</td>\n",
       "      <td>0.5</td>\n",
       "      <td>64.83</td>\n",
       "      <td>0.511</td>\n",
       "      <td>41128772.0</td>\n",
       "      <td>NaN</td>\n",
       "      <td>NaN</td>\n",
       "      <td>NaN</td>\n",
       "      <td>NaN</td>\n",
       "    </tr>\n",
       "    <tr>\n",
       "      <th>1</th>\n",
       "      <td>AFG</td>\n",
       "      <td>Asia</td>\n",
       "      <td>Afghanistan</td>\n",
       "      <td>2020-01-06</td>\n",
       "      <td>NaN</td>\n",
       "      <td>0.0</td>\n",
       "      <td>NaN</td>\n",
       "      <td>NaN</td>\n",
       "      <td>0.0</td>\n",
       "      <td>NaN</td>\n",
       "      <td>...</td>\n",
       "      <td>NaN</td>\n",
       "      <td>37.746</td>\n",
       "      <td>0.5</td>\n",
       "      <td>64.83</td>\n",
       "      <td>0.511</td>\n",
       "      <td>41128772.0</td>\n",
       "      <td>NaN</td>\n",
       "      <td>NaN</td>\n",
       "      <td>NaN</td>\n",
       "      <td>NaN</td>\n",
       "    </tr>\n",
       "    <tr>\n",
       "      <th>2</th>\n",
       "      <td>AFG</td>\n",
       "      <td>Asia</td>\n",
       "      <td>Afghanistan</td>\n",
       "      <td>2020-01-07</td>\n",
       "      <td>NaN</td>\n",
       "      <td>0.0</td>\n",
       "      <td>NaN</td>\n",
       "      <td>NaN</td>\n",
       "      <td>0.0</td>\n",
       "      <td>NaN</td>\n",
       "      <td>...</td>\n",
       "      <td>NaN</td>\n",
       "      <td>37.746</td>\n",
       "      <td>0.5</td>\n",
       "      <td>64.83</td>\n",
       "      <td>0.511</td>\n",
       "      <td>41128772.0</td>\n",
       "      <td>NaN</td>\n",
       "      <td>NaN</td>\n",
       "      <td>NaN</td>\n",
       "      <td>NaN</td>\n",
       "    </tr>\n",
       "    <tr>\n",
       "      <th>3</th>\n",
       "      <td>AFG</td>\n",
       "      <td>Asia</td>\n",
       "      <td>Afghanistan</td>\n",
       "      <td>2020-01-08</td>\n",
       "      <td>NaN</td>\n",
       "      <td>0.0</td>\n",
       "      <td>NaN</td>\n",
       "      <td>NaN</td>\n",
       "      <td>0.0</td>\n",
       "      <td>NaN</td>\n",
       "      <td>...</td>\n",
       "      <td>NaN</td>\n",
       "      <td>37.746</td>\n",
       "      <td>0.5</td>\n",
       "      <td>64.83</td>\n",
       "      <td>0.511</td>\n",
       "      <td>41128772.0</td>\n",
       "      <td>NaN</td>\n",
       "      <td>NaN</td>\n",
       "      <td>NaN</td>\n",
       "      <td>NaN</td>\n",
       "    </tr>\n",
       "    <tr>\n",
       "      <th>4</th>\n",
       "      <td>AFG</td>\n",
       "      <td>Asia</td>\n",
       "      <td>Afghanistan</td>\n",
       "      <td>2020-01-09</td>\n",
       "      <td>NaN</td>\n",
       "      <td>0.0</td>\n",
       "      <td>NaN</td>\n",
       "      <td>NaN</td>\n",
       "      <td>0.0</td>\n",
       "      <td>NaN</td>\n",
       "      <td>...</td>\n",
       "      <td>NaN</td>\n",
       "      <td>37.746</td>\n",
       "      <td>0.5</td>\n",
       "      <td>64.83</td>\n",
       "      <td>0.511</td>\n",
       "      <td>41128772.0</td>\n",
       "      <td>NaN</td>\n",
       "      <td>NaN</td>\n",
       "      <td>NaN</td>\n",
       "      <td>NaN</td>\n",
       "    </tr>\n",
       "    <tr>\n",
       "      <th>...</th>\n",
       "      <td>...</td>\n",
       "      <td>...</td>\n",
       "      <td>...</td>\n",
       "      <td>...</td>\n",
       "      <td>...</td>\n",
       "      <td>...</td>\n",
       "      <td>...</td>\n",
       "      <td>...</td>\n",
       "      <td>...</td>\n",
       "      <td>...</td>\n",
       "      <td>...</td>\n",
       "      <td>...</td>\n",
       "      <td>...</td>\n",
       "      <td>...</td>\n",
       "      <td>...</td>\n",
       "      <td>...</td>\n",
       "      <td>...</td>\n",
       "      <td>...</td>\n",
       "      <td>...</td>\n",
       "      <td>...</td>\n",
       "      <td>...</td>\n",
       "    </tr>\n",
       "    <tr>\n",
       "      <th>387290</th>\n",
       "      <td>ZWE</td>\n",
       "      <td>Africa</td>\n",
       "      <td>Zimbabwe</td>\n",
       "      <td>2024-03-13</td>\n",
       "      <td>266359.0</td>\n",
       "      <td>0.0</td>\n",
       "      <td>0.143</td>\n",
       "      <td>5740.0</td>\n",
       "      <td>0.0</td>\n",
       "      <td>0.0</td>\n",
       "      <td>...</td>\n",
       "      <td>30.7</td>\n",
       "      <td>36.791</td>\n",
       "      <td>1.7</td>\n",
       "      <td>61.49</td>\n",
       "      <td>0.571</td>\n",
       "      <td>16320539.0</td>\n",
       "      <td>NaN</td>\n",
       "      <td>NaN</td>\n",
       "      <td>NaN</td>\n",
       "      <td>NaN</td>\n",
       "    </tr>\n",
       "    <tr>\n",
       "      <th>387291</th>\n",
       "      <td>ZWE</td>\n",
       "      <td>Africa</td>\n",
       "      <td>Zimbabwe</td>\n",
       "      <td>2024-03-14</td>\n",
       "      <td>266359.0</td>\n",
       "      <td>0.0</td>\n",
       "      <td>0.143</td>\n",
       "      <td>5740.0</td>\n",
       "      <td>0.0</td>\n",
       "      <td>0.0</td>\n",
       "      <td>...</td>\n",
       "      <td>30.7</td>\n",
       "      <td>36.791</td>\n",
       "      <td>1.7</td>\n",
       "      <td>61.49</td>\n",
       "      <td>0.571</td>\n",
       "      <td>16320539.0</td>\n",
       "      <td>NaN</td>\n",
       "      <td>NaN</td>\n",
       "      <td>NaN</td>\n",
       "      <td>NaN</td>\n",
       "    </tr>\n",
       "    <tr>\n",
       "      <th>387292</th>\n",
       "      <td>ZWE</td>\n",
       "      <td>Africa</td>\n",
       "      <td>Zimbabwe</td>\n",
       "      <td>2024-03-15</td>\n",
       "      <td>266359.0</td>\n",
       "      <td>0.0</td>\n",
       "      <td>0.143</td>\n",
       "      <td>5740.0</td>\n",
       "      <td>0.0</td>\n",
       "      <td>0.0</td>\n",
       "      <td>...</td>\n",
       "      <td>30.7</td>\n",
       "      <td>36.791</td>\n",
       "      <td>1.7</td>\n",
       "      <td>61.49</td>\n",
       "      <td>0.571</td>\n",
       "      <td>16320539.0</td>\n",
       "      <td>NaN</td>\n",
       "      <td>NaN</td>\n",
       "      <td>NaN</td>\n",
       "      <td>NaN</td>\n",
       "    </tr>\n",
       "    <tr>\n",
       "      <th>387293</th>\n",
       "      <td>ZWE</td>\n",
       "      <td>Africa</td>\n",
       "      <td>Zimbabwe</td>\n",
       "      <td>2024-03-16</td>\n",
       "      <td>266359.0</td>\n",
       "      <td>0.0</td>\n",
       "      <td>0.143</td>\n",
       "      <td>5740.0</td>\n",
       "      <td>0.0</td>\n",
       "      <td>0.0</td>\n",
       "      <td>...</td>\n",
       "      <td>30.7</td>\n",
       "      <td>36.791</td>\n",
       "      <td>1.7</td>\n",
       "      <td>61.49</td>\n",
       "      <td>0.571</td>\n",
       "      <td>16320539.0</td>\n",
       "      <td>NaN</td>\n",
       "      <td>NaN</td>\n",
       "      <td>NaN</td>\n",
       "      <td>NaN</td>\n",
       "    </tr>\n",
       "    <tr>\n",
       "      <th>387294</th>\n",
       "      <td>ZWE</td>\n",
       "      <td>Africa</td>\n",
       "      <td>Zimbabwe</td>\n",
       "      <td>2024-03-17</td>\n",
       "      <td>266359.0</td>\n",
       "      <td>0.0</td>\n",
       "      <td>0.000</td>\n",
       "      <td>5740.0</td>\n",
       "      <td>0.0</td>\n",
       "      <td>0.0</td>\n",
       "      <td>...</td>\n",
       "      <td>30.7</td>\n",
       "      <td>36.791</td>\n",
       "      <td>1.7</td>\n",
       "      <td>61.49</td>\n",
       "      <td>0.571</td>\n",
       "      <td>16320539.0</td>\n",
       "      <td>NaN</td>\n",
       "      <td>NaN</td>\n",
       "      <td>NaN</td>\n",
       "      <td>NaN</td>\n",
       "    </tr>\n",
       "  </tbody>\n",
       "</table>\n",
       "<p>387295 rows × 67 columns</p>\n",
       "</div>"
      ],
      "text/plain": [
       "       iso_code continent     location        date  total_cases  new_cases  \\\n",
       "0           AFG      Asia  Afghanistan  2020-01-05          NaN        0.0   \n",
       "1           AFG      Asia  Afghanistan  2020-01-06          NaN        0.0   \n",
       "2           AFG      Asia  Afghanistan  2020-01-07          NaN        0.0   \n",
       "3           AFG      Asia  Afghanistan  2020-01-08          NaN        0.0   \n",
       "4           AFG      Asia  Afghanistan  2020-01-09          NaN        0.0   \n",
       "...         ...       ...          ...         ...          ...        ...   \n",
       "387290      ZWE    Africa     Zimbabwe  2024-03-13     266359.0        0.0   \n",
       "387291      ZWE    Africa     Zimbabwe  2024-03-14     266359.0        0.0   \n",
       "387292      ZWE    Africa     Zimbabwe  2024-03-15     266359.0        0.0   \n",
       "387293      ZWE    Africa     Zimbabwe  2024-03-16     266359.0        0.0   \n",
       "387294      ZWE    Africa     Zimbabwe  2024-03-17     266359.0        0.0   \n",
       "\n",
       "        new_cases_smoothed  total_deaths  new_deaths  new_deaths_smoothed  \\\n",
       "0                      NaN           NaN         0.0                  NaN   \n",
       "1                      NaN           NaN         0.0                  NaN   \n",
       "2                      NaN           NaN         0.0                  NaN   \n",
       "3                      NaN           NaN         0.0                  NaN   \n",
       "4                      NaN           NaN         0.0                  NaN   \n",
       "...                    ...           ...         ...                  ...   \n",
       "387290               0.143        5740.0         0.0                  0.0   \n",
       "387291               0.143        5740.0         0.0                  0.0   \n",
       "387292               0.143        5740.0         0.0                  0.0   \n",
       "387293               0.143        5740.0         0.0                  0.0   \n",
       "387294               0.000        5740.0         0.0                  0.0   \n",
       "\n",
       "        ...  male_smokers  handwashing_facilities  hospital_beds_per_thousand  \\\n",
       "0       ...           NaN                  37.746                         0.5   \n",
       "1       ...           NaN                  37.746                         0.5   \n",
       "2       ...           NaN                  37.746                         0.5   \n",
       "3       ...           NaN                  37.746                         0.5   \n",
       "4       ...           NaN                  37.746                         0.5   \n",
       "...     ...           ...                     ...                         ...   \n",
       "387290  ...          30.7                  36.791                         1.7   \n",
       "387291  ...          30.7                  36.791                         1.7   \n",
       "387292  ...          30.7                  36.791                         1.7   \n",
       "387293  ...          30.7                  36.791                         1.7   \n",
       "387294  ...          30.7                  36.791                         1.7   \n",
       "\n",
       "        life_expectancy  human_development_index  population  \\\n",
       "0                 64.83                    0.511  41128772.0   \n",
       "1                 64.83                    0.511  41128772.0   \n",
       "2                 64.83                    0.511  41128772.0   \n",
       "3                 64.83                    0.511  41128772.0   \n",
       "4                 64.83                    0.511  41128772.0   \n",
       "...                 ...                      ...         ...   \n",
       "387290            61.49                    0.571  16320539.0   \n",
       "387291            61.49                    0.571  16320539.0   \n",
       "387292            61.49                    0.571  16320539.0   \n",
       "387293            61.49                    0.571  16320539.0   \n",
       "387294            61.49                    0.571  16320539.0   \n",
       "\n",
       "        excess_mortality_cumulative_absolute  excess_mortality_cumulative  \\\n",
       "0                                        NaN                          NaN   \n",
       "1                                        NaN                          NaN   \n",
       "2                                        NaN                          NaN   \n",
       "3                                        NaN                          NaN   \n",
       "4                                        NaN                          NaN   \n",
       "...                                      ...                          ...   \n",
       "387290                                   NaN                          NaN   \n",
       "387291                                   NaN                          NaN   \n",
       "387292                                   NaN                          NaN   \n",
       "387293                                   NaN                          NaN   \n",
       "387294                                   NaN                          NaN   \n",
       "\n",
       "        excess_mortality  excess_mortality_cumulative_per_million  \n",
       "0                    NaN                                      NaN  \n",
       "1                    NaN                                      NaN  \n",
       "2                    NaN                                      NaN  \n",
       "3                    NaN                                      NaN  \n",
       "4                    NaN                                      NaN  \n",
       "...                  ...                                      ...  \n",
       "387290               NaN                                      NaN  \n",
       "387291               NaN                                      NaN  \n",
       "387292               NaN                                      NaN  \n",
       "387293               NaN                                      NaN  \n",
       "387294               NaN                                      NaN  \n",
       "\n",
       "[387295 rows x 67 columns]"
      ]
     },
     "execution_count": 106,
     "metadata": {},
     "output_type": "execute_result"
    }
   ],
   "source": [
    "df"
   ]
  },
  {
   "cell_type": "code",
   "execution_count": null,
   "id": "cf7c12ef-7a03-4109-a0dc-588a7fd9764b",
   "metadata": {},
   "outputs": [],
   "source": []
  },
  {
   "cell_type": "code",
   "execution_count": null,
   "id": "3e110f41-1740-438b-a37a-6117e1c34fd0",
   "metadata": {},
   "outputs": [],
   "source": [
    "#dimensioni dataset"
   ]
  },
  {
   "cell_type": "code",
   "execution_count": 124,
   "id": "0a6314d3-5e9d-402b-b08f-46679870503e",
   "metadata": {},
   "outputs": [
    {
     "name": "stdout",
     "output_type": "stream",
     "text": [
      "\n",
      "Dimensioni del dataset:\n",
      "Numero di righe: 368751\n",
      "Numero di colonne: 68\n"
     ]
    },
    {
     "data": {
      "text/plain": [
       "(368751, 68)"
      ]
     },
     "execution_count": 124,
     "metadata": {},
     "output_type": "execute_result"
    }
   ],
   "source": [
    "print('\\nDimensioni del dataset:')\n",
    "print('Numero di righe:', len(df))\n",
    "print('Numero di colonne:', len(df.columns))\n",
    "df.shape"
   ]
  },
  {
   "cell_type": "code",
   "execution_count": null,
   "id": "fb2ab65b-af91-48c6-99f8-9ffa0e98cb9e",
   "metadata": {},
   "outputs": [],
   "source": []
  },
  {
   "cell_type": "code",
   "execution_count": null,
   "id": "2b7a1a26-2f0d-46d5-ab9c-2fcd42e9fdc5",
   "metadata": {},
   "outputs": [],
   "source": [
    "#info metadati"
   ]
  },
  {
   "cell_type": "code",
   "execution_count": 14,
   "id": "95c8a36d-79d2-445a-ac80-c2ab1670027b",
   "metadata": {},
   "outputs": [
    {
     "name": "stdout",
     "output_type": "stream",
     "text": [
      "\n",
      "Informazioni sui metadati:\n",
      "<class 'pandas.core.frame.DataFrame'>\n",
      "RangeIndex: 387295 entries, 0 to 387294\n",
      "Data columns (total 67 columns):\n",
      " #   Column                                      Non-Null Count   Dtype  \n",
      "---  ------                                      --------------   -----  \n",
      " 0   iso_code                                    387295 non-null  object \n",
      " 1   continent                                   368751 non-null  object \n",
      " 2   location                                    387295 non-null  object \n",
      " 3   date                                        387295 non-null  object \n",
      " 4   total_cases                                 348333 non-null  float64\n",
      " 5   new_cases                                   376280 non-null  float64\n",
      " 6   new_cases_smoothed                          375050 non-null  float64\n",
      " 7   total_deaths                                326109 non-null  float64\n",
      " 8   new_deaths                                  376589 non-null  float64\n",
      " 9   new_deaths_smoothed                         375359 non-null  float64\n",
      " 10  total_cases_per_million                     348333 non-null  float64\n",
      " 11  new_cases_per_million                       376280 non-null  float64\n",
      " 12  new_cases_smoothed_per_million              375050 non-null  float64\n",
      " 13  total_deaths_per_million                    326109 non-null  float64\n",
      " 14  new_deaths_per_million                      376589 non-null  float64\n",
      " 15  new_deaths_smoothed_per_million             375359 non-null  float64\n",
      " 16  reproduction_rate                           184817 non-null  float64\n",
      " 17  icu_patients                                38644 non-null   float64\n",
      " 18  icu_patients_per_million                    38644 non-null   float64\n",
      " 19  hosp_patients                               40181 non-null   float64\n",
      " 20  hosp_patients_per_million                   40181 non-null   float64\n",
      " 21  weekly_icu_admissions                       10690 non-null   float64\n",
      " 22  weekly_icu_admissions_per_million           10690 non-null   float64\n",
      " 23  weekly_hosp_admissions                      24160 non-null   float64\n",
      " 24  weekly_hosp_admissions_per_million          24160 non-null   float64\n",
      " 25  total_tests                                 79387 non-null   float64\n",
      " 26  new_tests                                   75403 non-null   float64\n",
      " 27  total_tests_per_thousand                    79387 non-null   float64\n",
      " 28  new_tests_per_thousand                      75403 non-null   float64\n",
      " 29  new_tests_smoothed                          103965 non-null  float64\n",
      " 30  new_tests_smoothed_per_thousand             103965 non-null  float64\n",
      " 31  positive_rate                               95927 non-null   float64\n",
      " 32  tests_per_case                              94348 non-null   float64\n",
      " 33  tests_units                                 106788 non-null  object \n",
      " 34  total_vaccinations                          83343 non-null   float64\n",
      " 35  people_vaccinated                           79221 non-null   float64\n",
      " 36  people_fully_vaccinated                     76104 non-null   float64\n",
      " 37  total_boosters                              51529 non-null   float64\n",
      " 38  new_vaccinations                            69077 non-null   float64\n",
      " 39  new_vaccinations_smoothed                   190077 non-null  float64\n",
      " 40  total_vaccinations_per_hundred              83343 non-null   float64\n",
      " 41  people_vaccinated_per_hundred               79221 non-null   float64\n",
      " 42  people_fully_vaccinated_per_hundred         76104 non-null   float64\n",
      " 43  total_boosters_per_hundred                  51529 non-null   float64\n",
      " 44  new_vaccinations_smoothed_per_million       190077 non-null  float64\n",
      " 45  new_people_vaccinated_smoothed              187438 non-null  float64\n",
      " 46  new_people_vaccinated_smoothed_per_hundred  187438 non-null  float64\n",
      " 47  stringency_index                            197292 non-null  float64\n",
      " 48  population_density                          329279 non-null  float64\n",
      " 49  median_age                                  306084 non-null  float64\n",
      " 50  aged_65_older                               295531 non-null  float64\n",
      " 51  aged_70_older                               303016 non-null  float64\n",
      " 52  gdp_per_capita                              300121 non-null  float64\n",
      " 53  extreme_poverty                             193461 non-null  float64\n",
      " 54  cardiovasc_death_rate                       300707 non-null  float64\n",
      " 55  diabetes_prevalence                         316212 non-null  float64\n",
      " 56  female_smokers                              225727 non-null  float64\n",
      " 57  male_smokers                                222659 non-null  float64\n",
      " 58  handwashing_facilities                      147329 non-null  float64\n",
      " 59  hospital_beds_per_thousand                  265611 non-null  float64\n",
      " 60  life_expectancy                             356706 non-null  float64\n",
      " 61  human_development_index                     291668 non-null  float64\n",
      " 62  population                                  387295 non-null  float64\n",
      " 63  excess_mortality_cumulative_absolute        13187 non-null   float64\n",
      " 64  excess_mortality_cumulative                 13187 non-null   float64\n",
      " 65  excess_mortality                            13187 non-null   float64\n",
      " 66  excess_mortality_cumulative_per_million     13187 non-null   float64\n",
      "dtypes: float64(62), object(5)\n",
      "memory usage: 198.0+ MB\n",
      "None\n"
     ]
    }
   ],
   "source": [
    "print('\\nInformazioni sui metadati:')\n",
    "print(df.info())"
   ]
  },
  {
   "cell_type": "code",
   "execution_count": null,
   "id": "45437beb-8156-4042-a13c-c9039523f98e",
   "metadata": {},
   "outputs": [],
   "source": []
  },
  {
   "cell_type": "code",
   "execution_count": null,
   "id": "3fb5aa0f-4130-405e-8a95-23d800575b3b",
   "metadata": {},
   "outputs": [],
   "source": [
    "#trovare il totale casi per i continenti"
   ]
  },
  {
   "cell_type": "code",
   "execution_count": 114,
   "id": "a473b5b0-d595-4dac-90a8-116be10d42df",
   "metadata": {},
   "outputs": [
    {
     "name": "stdout",
     "output_type": "stream",
     "text": [
      "continent\n",
      "Africa           1.277678e+10\n",
      "Asia             2.099663e+11\n",
      "Europe           2.013888e+11\n",
      "North America    1.096626e+11\n",
      "Oceania          9.506027e+09\n",
      "South America    6.384417e+10\n",
      "Name: total_cases, dtype: float64\n"
     ]
    }
   ],
   "source": [
    "df=df.dropna(subset=['continent'])\n",
    "total_cases_continent=df.groupby('continent')['total_cases'].sum()\n",
    "print(total_cases_continent)\n"
   ]
  },
  {
   "cell_type": "code",
   "execution_count": null,
   "id": "2a95eec1-8626-4af6-91d3-0b19c4dabfda",
   "metadata": {},
   "outputs": [],
   "source": [
    "#Vengono numeri fuori dal normale, avevo pensato di usare i new_cases ma la consegna richiede i total\n",
    "#df=df.dropna(subset=['continent'])\n",
    "#total_cases_continent=df.groupby('continent')['new_cases'].sum()\n",
    "#print(total_cases_continent)\n"
   ]
  },
  {
   "cell_type": "code",
   "execution_count": null,
   "id": "861d0e68-ffa0-4ffe-9989-a59c5318c012",
   "metadata": {},
   "outputs": [],
   "source": []
  },
  {
   "cell_type": "code",
   "execution_count": null,
   "id": "1328eee7-4231-45af-87db-c97ad0a62e50",
   "metadata": {},
   "outputs": [],
   "source": [
    "#date due variabili di continenti trova:valore massimo, media e % rispetto ai casi tot"
   ]
  },
  {
   "cell_type": "code",
   "execution_count": 118,
   "id": "e1599300-cc13-4a18-ae7a-7de01830dccc",
   "metadata": {},
   "outputs": [
    {
     "name": "stdout",
     "output_type": "stream",
     "text": [
      "           Percentuale_Casi_Totali   Casi_totali    Max_Casi  Media_Casi\n",
      "continent                                                               \n",
      "Asia                      0.345826           NaN         NaN         NaN\n",
      "Asia                           NaN  2.099663e+11  99343195.0   3183043.0\n",
      "           Percentuale_Casi_Totali   Casi_totali    Max_Casi  Media_Casi\n",
      "continent                                                               \n",
      "Europe                    0.331698           NaN         NaN         NaN\n",
      "Europe                         NaN  2.013888e+11  38997490.0   2669240.0\n"
     ]
    }
   ],
   "source": [
    "asi='Asia'\n",
    "eu='Europe'\n",
    "\n",
    "perc=total_cases_continent/total_cases_continent.sum()\n",
    "stat_continente=df.groupby([\"continent\"])[\"total_cases\"].agg([\"sum\", \"max\", \"mean\"]).round()\n",
    "\n",
    "db_merge=pd.concat([perc, stat_continente])\n",
    "db_merge.columns=['Percentuale_Casi_Totali', 'Casi_totali', 'Max_Casi', 'Media_Casi']\n",
    "\n",
    "stat_asia=(db_merge.loc[asi])\n",
    "stat_europa=(db_merge.loc[eu])\n",
    "print(stat_asia)\n",
    "print(stat_europa)"
   ]
  },
  {
   "cell_type": "code",
   "execution_count": null,
   "id": "7e498277-259c-4c7d-82fa-8aa4a63fb5db",
   "metadata": {},
   "outputs": [],
   "source": []
  },
  {
   "cell_type": "code",
   "execution_count": null,
   "id": "66643d85-17cc-4ceb-88fd-ebdf55bf3374",
   "metadata": {},
   "outputs": [],
   "source": [
    "#Selezionare i dati relativi all'Italia nel 2022\n",
    "#Mostrare con un grafico adeguato l'evoluzione dei casi totali "
   ]
  },
  {
   "cell_type": "code",
   "execution_count": 54,
   "id": "0067fa12-2987-4dc2-808a-0d693290b845",
   "metadata": {},
   "outputs": [],
   "source": [
    "df.date=pd.to_datetime(df.date)"
   ]
  },
  {
   "cell_type": "code",
   "execution_count": 55,
   "id": "1421e855-b083-4980-9f65-17378925f200",
   "metadata": {},
   "outputs": [
    {
     "data": {
      "text/plain": [
       "0         2020\n",
       "1         2020\n",
       "2         2020\n",
       "3         2020\n",
       "4         2020\n",
       "          ... \n",
       "387290    2024\n",
       "387291    2024\n",
       "387292    2024\n",
       "387293    2024\n",
       "387294    2024\n",
       "Name: date, Length: 368751, dtype: int32"
      ]
     },
     "execution_count": 55,
     "metadata": {},
     "output_type": "execute_result"
    }
   ],
   "source": [
    "df.date.dt.year"
   ]
  },
  {
   "cell_type": "code",
   "execution_count": 58,
   "id": "85e2eb9c-58ed-4fbd-9025-8ede6720a71e",
   "metadata": {},
   "outputs": [],
   "source": [
    "filtro_2022=df.date.dt.year==2022\n",
    "filtro_ita=df.location=='Italy'"
   ]
  },
  {
   "cell_type": "code",
   "execution_count": 59,
   "id": "5e26b8cf-ab17-43e8-a9b7-74d41fc985fd",
   "metadata": {},
   "outputs": [],
   "source": [
    "Italia=filtro_2022 & filtro_ita\n",
    "ita2022=df.loc[Italia]"
   ]
  },
  {
   "cell_type": "code",
   "execution_count": 63,
   "id": "969a033b-fd1c-4219-b2f6-41cd8f034aad",
   "metadata": {},
   "outputs": [
    {
     "data": {
      "text/plain": [
       "[<matplotlib.lines.Line2D at 0x19d84072a50>]"
      ]
     },
     "execution_count": 63,
     "metadata": {},
     "output_type": "execute_result"
    },
    {
     "data": {
      "image/png": "[encoded data removed]",
      "text/plain": [
       "<Figure size 640x480 with 1 Axes>"
      ]
     },
     "metadata": {},
     "output_type": "display_data"
    }
   ],
   "source": [
    "df.loc[Italia]\n",
    "\n",
    "plt.plot(ita2022['date'], ita2022['total_cases'])\n",
    "        "
   ]
  },
  {
   "cell_type": "code",
   "execution_count": null,
   "id": "b08ecced-6f37-4f87-acbe-2e00dede4317",
   "metadata": {},
   "outputs": [],
   "source": [
    "#Mostrare poi con un grafico adeguato il numero di nuovi casi rispetto alla data."
   ]
  },
  {
   "cell_type": "code",
   "execution_count": 64,
   "id": "c0dbcf30-349a-4d56-8ed0-b6e5db32dd46",
   "metadata": {},
   "outputs": [
    {
     "data": {
      "text/plain": [
       "[<matplotlib.lines.Line2D at 0x19d8739a8d0>]"
      ]
     },
     "execution_count": 64,
     "metadata": {},
     "output_type": "execute_result"
    },
    {
     "data": {
      "image/png": "[encoded data removed]",
      "text/plain": [
       "<Figure size 640x480 with 1 Axes>"
      ]
     },
     "metadata": {},
     "output_type": "display_data"
    }
   ],
   "source": [
    "plt.plot(ita2022['date'], ita2022['new_cases'])"
   ]
  },
  {
   "cell_type": "code",
   "execution_count": null,
   "id": "1af3d986-f9c8-41e6-b046-d46ec507089f",
   "metadata": {},
   "outputs": [],
   "source": [
    "#Mostrare infine un grafico che mostra l'andamento della somma cumulativa nuovi casi del 2022\n",
    "#Commentare se ci sono similarità con l'andamento del numero dei casi totali;"
   ]
  },
  {
   "cell_type": "code",
   "execution_count": 134,
   "id": "e9372b04-75fb-45ee-80c6-598f061029e4",
   "metadata": {},
   "outputs": [
    {
     "data": {
      "text/plain": [
       "[<matplotlib.lines.Line2D at 0x19ddb265810>]"
      ]
     },
     "execution_count": 134,
     "metadata": {},
     "output_type": "execute_result"
    },
    {
     "data": {
      "image/png": "[encoded data removed]",
      "text/plain": [
       "<Figure size 640x480 with 1 Axes>"
      ]
     },
     "metadata": {},
     "output_type": "display_data"
    }
   ],
   "source": [
    "df['progressivo']=df.new_cases.cumsum()\n",
    "plt.plot(ita2022['date'], ita2022['total_cases'], label='Casi totali')\n",
    "plt.plot(ita2022['date'], ita_cumul, label='Casi cumulativi')"
   ]
  },
  {
   "cell_type": "code",
   "execution_count": 128,
   "id": "3431694b-ab34-4936-b769-8748b46db289",
   "metadata": {},
   "outputs": [],
   "source": [
    "#all'aumentare dei casi totali in Italia nell'anno 2022 troviamo anche un aumento della somma cumulativa dei nuovi casi nell'anno 2022 ma in una maniera più lenta"
   ]
  },
  {
   "cell_type": "code",
   "execution_count": null,
   "id": "c267a0fd-4137-44b4-852c-9f55b70c8cdf",
   "metadata": {},
   "outputs": [],
   "source": []
  },
  {
   "cell_type": "code",
   "execution_count": null,
   "id": "27d64960-e364-4cdf-bf68-500f02a1cab1",
   "metadata": {},
   "outputs": [],
   "source": [
    "#Riguardo le nazioni di Italia, Germania e Francia, mostrare in un boxplot la differenza tra queste nazioni riguardo il numero di pazienti in terapia intensiva (Intensive Care Unit, ICU) da maggio 2022 (incluso) ad aprile 2023 (incluso)\n",
    "#Scrivere un breve commento a riguardo;"
   ]
  },
  {
   "cell_type": "code",
   "execution_count": 82,
   "id": "2b2294af-062b-4467-a17f-68e9858f9602",
   "metadata": {},
   "outputs": [],
   "source": [
    "filtroita=df.location=='Italy'\n",
    "filtrofra=df.location=='France'\n",
    "filtroger=df.location=='Germany'"
   ]
  },
  {
   "cell_type": "code",
   "execution_count": 83,
   "id": "8ebf2b7f-829e-4fd7-9952-00a4442064e9",
   "metadata": {},
   "outputs": [],
   "source": [
    "dati_selezionati=df[((df['location']=='Italy') | (df['location']=='Germany') | (df['location']=='France')) & \n",
    "(( df.date.dt.year==2022) & (df.date.dt.month>=5) | (df.date.dt.year==2023) & (df.date.dt.month<=4))]"
   ]
  },
  {
   "cell_type": "code",
   "execution_count": 86,
   "id": "1e222b25-230c-43a6-ac86-1427ea22a499",
   "metadata": {},
   "outputs": [
    {
     "data": {
      "text/plain": [
       "<Axes: xlabel='icu_patients', ylabel='location'>"
      ]
     },
     "execution_count": 86,
     "metadata": {},
     "output_type": "execute_result"
    },
    {
     "data": {
      "image/png": "[encoded data removed]",
      "text/plain": [
       "<Figure size 640x480 with 1 Axes>"
      ]
     },
     "metadata": {},
     "output_type": "display_data"
    }
   ],
   "source": [
    "sns.boxplot(data=dati_selezionati, x='icu_patients', y='location')"
   ]
  },
  {
   "cell_type": "code",
   "execution_count": null,
   "id": "928d35ca-710a-4c42-8e0e-f75790c7fac9",
   "metadata": {},
   "outputs": [],
   "source": [
    "#commento: dal grafico emerge che l'italia ha avuto un minor numero di pazienti in terapia intensiva nel periodo selezionato rispetto ai pazienti in terapia intensiva della francia e della germania. Dal grafico emerge inoltre che la germania è quella che ha visto il più alto numero di pazienti in t.i"
   ]
  },
  {
   "cell_type": "code",
   "execution_count": null,
   "id": "cd4da448-b81d-4346-b336-420003af6768",
   "metadata": {},
   "outputs": [],
   "source": []
  },
  {
   "cell_type": "code",
   "execution_count": 123,
   "id": "323fd037-9d43-4a80-a43f-215ecc452b92",
   "metadata": {},
   "outputs": [
    {
     "name": "stdout",
     "output_type": "stream",
     "text": [
      "location\n",
      "France     24157.0\n",
      "Germany        NaN\n",
      "Italy       8409.0\n",
      "Spain       3585.0\n",
      "Name: hosp_patients, dtype: float64\n"
     ]
    }
   ],
   "source": [
    "#Riguardo le nazioni di Italia, Germania, Francia e Spagna nel 2023, mostrare la somma dei pazienti ospitalizzati per ognuna\n",
    "#Se ci sono dati nulli, suggerire se può essere possibile gestirli tramite sostituzione o meno.\n",
    "igfs_data_2023=df.loc[(df[\"location\"].isin([\"Italy\", \"Germany\", \"France\", \"Spain\"]))&(df[\"date\"].between(\"2023-01-01\", \"2023-12-31\"))]\n",
    "somma_osp_2023=igfs_data_2023.groupby(\"location\")[\"hosp_patients\"].max()\n",
    "print(somma_osp_2023)"
   ]
  },
  {
   "cell_type": "code",
   "execution_count": null,
   "id": "aae72ee2-de1b-4771-b346-38601b133619",
   "metadata": {},
   "outputs": [],
   "source": [
    "#I valori relativi alla Germania sono nulli, io suggerirei di sostituirli usando la variabile weekly_hosp_admissions anche se il numero ottenuto sarà comunque un'approssimazione"
   ]
  },
  {
   "cell_type": "code",
   "execution_count": null,
   "id": "65c1d4be-1f25-4fa5-b15b-7868537eb9c2",
   "metadata": {},
   "outputs": [],
   "source": []
  }
 ],
 "metadata": {
  "kernelspec": {
   "display_name": "Python 3 (ipykernel)",
   "language": "python",
   "name": "python3"
  },
  "language_info": {
   "codemirror_mode": {
    "name": "ipython",
    "version": 3
   },
   "file_extension": ".py",
   "mimetype": "text/x-python",
   "name": "python",
   "nbconvert_exporter": "python",
   "pygments_lexer": "ipython3",
   "version": "3.11.7"
  }
 },
 "nbformat": 4,
 "nbformat_minor": 5
}
